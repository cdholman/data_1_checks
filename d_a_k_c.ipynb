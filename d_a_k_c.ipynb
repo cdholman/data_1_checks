{
 "cells": [
  {
   "cell_type": "code",
   "execution_count": 2,
   "metadata": {},
   "outputs": [],
   "source": [
    "import requests\n",
    "import pandas as pd\n",
    "\n",
    "\n"
   ]
  },
  {
   "cell_type": "code",
   "execution_count": 4,
   "metadata": {},
   "outputs": [
    {
     "data": {
      "text/plain": [
       "{'id': 46,\n",
       " 'type': 'general',\n",
       " 'setup': 'Finally realized why my plant sits around doing nothing all day...',\n",
       " 'punchline': 'He loves his pot.'}"
      ]
     },
     "execution_count": 4,
     "metadata": {},
     "output_type": "execute_result"
    }
   ],
   "source": [
    "r = requests.get('https://official-joke-api.appspot.com/random_joke')\n",
    "data = r.json()\n",
    "data"
   ]
  },
  {
   "cell_type": "code",
   "execution_count": null,
   "metadata": {},
   "outputs": [],
   "source": [
    "df = pd.DataFrame(data=data)\n",
    "df.head()"
   ]
  },
  {
   "cell_type": "code",
   "execution_count": 5,
   "metadata": {},
   "outputs": [
    {
     "data": {
      "text/plain": [
       "[{'id': 6,\n",
       "  'type': 'general',\n",
       "  'setup': 'How does a train eat?',\n",
       "  'punchline': 'It goes chew, chew'},\n",
       " {'id': 47,\n",
       "  'type': 'general',\n",
       "  'setup': \"Don't look at the eclipse through a colander.\",\n",
       "  'punchline': \"You'll strain your eyes.\"},\n",
       " {'id': 185,\n",
       "  'type': 'general',\n",
       "  'setup': 'What did the grape do when he got stepped on?',\n",
       "  'punchline': 'He let out a little wine.'},\n",
       " {'id': 69,\n",
       "  'type': 'general',\n",
       "  'setup': \"I got hit in the head by a soda can, but it didn't hurt that much...\",\n",
       "  'punchline': 'It was a soft drink.'},\n",
       " {'id': 149,\n",
       "  'type': 'general',\n",
       "  'setup': 'Is the pool safe for diving?',\n",
       "  'punchline': 'It deep ends.'},\n",
       " {'id': 64,\n",
       "  'type': 'general',\n",
       "  'setup': 'Did you hear about the hungry clock?',\n",
       "  'punchline': 'It went back four seconds.'},\n",
       " {'id': 128,\n",
       "  'type': 'general',\n",
       "  'setup': 'How do you know if there’s an elephant under your bed?',\n",
       "  'punchline': 'Your head hits the ceiling!'},\n",
       " {'id': 371,\n",
       "  'type': 'general',\n",
       "  'setup': 'Why does a chicken coop only have two doors?',\n",
       "  'punchline': 'Because if it had four doors it would be a chicken sedan.'},\n",
       " {'id': 332,\n",
       "  'type': 'general',\n",
       "  'setup': 'Why did the chicken get a penalty?',\n",
       "  'punchline': 'For fowl play.'},\n",
       " {'id': 285,\n",
       "  'type': 'general',\n",
       "  'setup': \"What's the difference between a hippo and a zippo?\",\n",
       "  'punchline': 'One is really heavy, the other is a little lighter.'}]"
      ]
     },
     "execution_count": 5,
     "metadata": {},
     "output_type": "execute_result"
    }
   ],
   "source": [
    "r = requests.get('https://official-joke-api.appspot.com/jokes/ten')\n",
    "data = r.json()\n",
    "data"
   ]
  },
  {
   "cell_type": "code",
   "execution_count": 6,
   "metadata": {},
   "outputs": [
    {
     "name": "stdout",
     "output_type": "stream",
     "text": [
      "{'id': 6, 'type': 'general', 'setup': 'How does a train eat?', 'punchline': 'It goes chew, chew'}\n",
      "{'id': 47, 'type': 'general', 'setup': \"Don't look at the eclipse through a colander.\", 'punchline': \"You'll strain your eyes.\"}\n",
      "{'id': 185, 'type': 'general', 'setup': 'What did the grape do when he got stepped on?', 'punchline': 'He let out a little wine.'}\n",
      "{'id': 69, 'type': 'general', 'setup': \"I got hit in the head by a soda can, but it didn't hurt that much...\", 'punchline': 'It was a soft drink.'}\n",
      "{'id': 149, 'type': 'general', 'setup': 'Is the pool safe for diving?', 'punchline': 'It deep ends.'}\n",
      "{'id': 64, 'type': 'general', 'setup': 'Did you hear about the hungry clock?', 'punchline': 'It went back four seconds.'}\n",
      "{'id': 128, 'type': 'general', 'setup': 'How do you know if there’s an elephant under your bed?', 'punchline': 'Your head hits the ceiling!'}\n",
      "{'id': 371, 'type': 'general', 'setup': 'Why does a chicken coop only have two doors?', 'punchline': 'Because if it had four doors it would be a chicken sedan.'}\n",
      "{'id': 332, 'type': 'general', 'setup': 'Why did the chicken get a penalty?', 'punchline': 'For fowl play.'}\n",
      "{'id': 285, 'type': 'general', 'setup': \"What's the difference between a hippo and a zippo?\", 'punchline': 'One is really heavy, the other is a little lighter.'}\n"
     ]
    }
   ],
   "source": [
    "for joke in data:\n",
    "    print(joke)"
   ]
  },
  {
   "cell_type": "code",
   "execution_count": null,
   "metadata": {},
   "outputs": [],
   "source": []
  }
 ],
 "metadata": {
  "kernelspec": {
   "display_name": "Python 3.9.12 ('base')",
   "language": "python",
   "name": "python3"
  },
  "language_info": {
   "codemirror_mode": {
    "name": "ipython",
    "version": 3
   },
   "file_extension": ".py",
   "mimetype": "text/x-python",
   "name": "python",
   "nbconvert_exporter": "python",
   "pygments_lexer": "ipython3",
   "version": "3.9.12"
  },
  "orig_nbformat": 4,
  "vscode": {
   "interpreter": {
    "hash": "c8869f3ab895debcefb79266e9c904e02140001b328bfa99a5433b85d102766c"
   }
  }
 },
 "nbformat": 4,
 "nbformat_minor": 2
}
